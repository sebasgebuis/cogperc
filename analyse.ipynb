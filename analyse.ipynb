{
 "cells": [
  {
   "cell_type": "code",
   "id": "initial_id",
   "metadata": {
    "collapsed": true,
    "ExecuteTime": {
     "end_time": "2024-06-13T11:06:40.710314Z",
     "start_time": "2024-06-13T11:06:40.707100Z"
    }
   },
   "source": [
    "import pandas as pd\n",
    "import numpy as np\n",
    "import matplotlib.pyplot as plt\n",
    "import seaborn as sns\n",
    "from scipy import stats"
   ],
   "outputs": [],
   "execution_count": 1
  },
  {
   "metadata": {
    "ExecuteTime": {
     "end_time": "2024-06-13T11:08:56.137169Z",
     "start_time": "2024-06-13T11:08:56.122731Z"
    }
   },
   "cell_type": "code",
   "source": [
    "data = pd.read_csv('clean_data.csv')\n",
    "display(data.head())"
   ],
   "id": "a3020e542232243b",
   "outputs": [
    {
     "data": {
      "text/plain": [
       "   Unnamed: 0  SART -  Number Go trials  SART -  Number Go mistakes   \n",
       "0           1                      16.0                         0.0  \\\n",
       "1           2                      16.0                         1.0   \n",
       "2           3                      16.0                         0.0   \n",
       "3           4                      16.0                         0.0   \n",
       "4           5                     200.0                         6.0   \n",
       "\n",
       "   SART -  Go mistakes (%)  SART -  Number No Go trials   \n",
       "0                      0.0                          2.0  \\\n",
       "1                      5.0                          3.0   \n",
       "2                      0.0                          2.0   \n",
       "3                      0.0                          2.0   \n",
       "4                      3.0                         25.0   \n",
       "\n",
       "   SART -  Number No Go mistakes SART -  No Go mistakes (%)  ASQ score:  \n",
       "0                            2.0                        100         7.0  \n",
       "1                            3.0                        100         5.0  \n",
       "2                            0.0                          0         5.0  \n",
       "3                            1.0                         50         1.0  \n",
       "4                           19.0                         76        10.0  "
      ],
      "text/html": [
       "<div>\n",
       "<style scoped>\n",
       "    .dataframe tbody tr th:only-of-type {\n",
       "        vertical-align: middle;\n",
       "    }\n",
       "\n",
       "    .dataframe tbody tr th {\n",
       "        vertical-align: top;\n",
       "    }\n",
       "\n",
       "    .dataframe thead th {\n",
       "        text-align: right;\n",
       "    }\n",
       "</style>\n",
       "<table border=\"1\" class=\"dataframe\">\n",
       "  <thead>\n",
       "    <tr style=\"text-align: right;\">\n",
       "      <th></th>\n",
       "      <th>Unnamed: 0</th>\n",
       "      <th>SART -  Number Go trials</th>\n",
       "      <th>SART -  Number Go mistakes</th>\n",
       "      <th>SART -  Go mistakes (%)</th>\n",
       "      <th>SART -  Number No Go trials</th>\n",
       "      <th>SART -  Number No Go mistakes</th>\n",
       "      <th>SART -  No Go mistakes (%)</th>\n",
       "      <th>ASQ score:</th>\n",
       "    </tr>\n",
       "  </thead>\n",
       "  <tbody>\n",
       "    <tr>\n",
       "      <th>0</th>\n",
       "      <td>1</td>\n",
       "      <td>16.0</td>\n",
       "      <td>0.0</td>\n",
       "      <td>0.0</td>\n",
       "      <td>2.0</td>\n",
       "      <td>2.0</td>\n",
       "      <td>100</td>\n",
       "      <td>7.0</td>\n",
       "    </tr>\n",
       "    <tr>\n",
       "      <th>1</th>\n",
       "      <td>2</td>\n",
       "      <td>16.0</td>\n",
       "      <td>1.0</td>\n",
       "      <td>5.0</td>\n",
       "      <td>3.0</td>\n",
       "      <td>3.0</td>\n",
       "      <td>100</td>\n",
       "      <td>5.0</td>\n",
       "    </tr>\n",
       "    <tr>\n",
       "      <th>2</th>\n",
       "      <td>3</td>\n",
       "      <td>16.0</td>\n",
       "      <td>0.0</td>\n",
       "      <td>0.0</td>\n",
       "      <td>2.0</td>\n",
       "      <td>0.0</td>\n",
       "      <td>0</td>\n",
       "      <td>5.0</td>\n",
       "    </tr>\n",
       "    <tr>\n",
       "      <th>3</th>\n",
       "      <td>4</td>\n",
       "      <td>16.0</td>\n",
       "      <td>0.0</td>\n",
       "      <td>0.0</td>\n",
       "      <td>2.0</td>\n",
       "      <td>1.0</td>\n",
       "      <td>50</td>\n",
       "      <td>1.0</td>\n",
       "    </tr>\n",
       "    <tr>\n",
       "      <th>4</th>\n",
       "      <td>5</td>\n",
       "      <td>200.0</td>\n",
       "      <td>6.0</td>\n",
       "      <td>3.0</td>\n",
       "      <td>25.0</td>\n",
       "      <td>19.0</td>\n",
       "      <td>76</td>\n",
       "      <td>10.0</td>\n",
       "    </tr>\n",
       "  </tbody>\n",
       "</table>\n",
       "</div>"
      ]
     },
     "metadata": {},
     "output_type": "display_data"
    }
   ],
   "execution_count": 12
  },
  {
   "metadata": {
    "ExecuteTime": {
     "end_time": "2024-06-13T11:12:23.360844Z",
     "start_time": "2024-06-13T11:12:23.209165Z"
    }
   },
   "cell_type": "code",
   "source": [
    "plt.hist(data['ASQ score:'])\n",
    "\n",
    "plt.show()"
   ],
   "id": "9ac4aa99b42b3c38",
   "outputs": [
    {
     "data": {
      "text/plain": [
       "<Figure size 640x480 with 1 Axes>"
      ],
      "image/png": "[encoded data removed]"
     },
     "metadata": {},
     "output_type": "display_data"
    }
   ],
   "execution_count": 15
  }
 ],
 "metadata": {
  "kernelspec": {
   "display_name": "Python 3",
   "language": "python",
   "name": "python3"
  },
  "language_info": {
   "codemirror_mode": {
    "name": "ipython",
    "version": 2
   },
   "file_extension": ".py",
   "mimetype": "text/x-python",
   "name": "python",
   "nbconvert_exporter": "python",
   "pygments_lexer": "ipython2",
   "version": "2.7.6"
  }
 },
 "nbformat": 4,
 "nbformat_minor": 5
}
