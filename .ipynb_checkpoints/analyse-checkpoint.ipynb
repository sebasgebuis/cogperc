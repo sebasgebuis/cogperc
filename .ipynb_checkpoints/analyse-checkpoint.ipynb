{
 "cells": [
  {
   "cell_type": "code",
   "execution_count": 1,
   "id": "initial_id",
   "metadata": {
    "ExecuteTime": {
     "end_time": "2024-06-13T11:06:40.710314Z",
     "start_time": "2024-06-13T11:06:40.707100Z"
    }
   },
   "outputs": [],
   "source": [
    "import pandas as pd\n",
    "import numpy as np\n",
    "import matplotlib.pyplot as plt\n",
    "import seaborn as sns\n",
    "import statistics as st\n",
    "import scipy\n",
    "import statsmodels.stats.power as smp"
   ]
  },
  {
   "cell_type": "code",
   "execution_count": 2,
   "id": "a3020e542232243b",
   "metadata": {
    "ExecuteTime": {
     "end_time": "2024-06-13T11:08:56.137169Z",
     "start_time": "2024-06-13T11:08:56.122731Z"
    },
    "scrolled": true
   },
   "outputs": [
    {
     "data": {
      "text/html": [
       "<div>\n",
       "<style scoped>\n",
       "    .dataframe tbody tr th:only-of-type {\n",
       "        vertical-align: middle;\n",
       "    }\n",
       "\n",
       "    .dataframe tbody tr th {\n",
       "        vertical-align: top;\n",
       "    }\n",
       "\n",
       "    .dataframe thead th {\n",
       "        text-align: right;\n",
       "    }\n",
       "</style>\n",
       "<table border=\"1\" class=\"dataframe\">\n",
       "  <thead>\n",
       "    <tr style=\"text-align: right;\">\n",
       "      <th></th>\n",
       "      <th>SART -  Go mistakes (%)</th>\n",
       "      <th>SART -  No Go mistakes (%)</th>\n",
       "      <th>ASQ score:</th>\n",
       "    </tr>\n",
       "  </thead>\n",
       "  <tbody>\n",
       "    <tr>\n",
       "      <th>0</th>\n",
       "      <td>3.0</td>\n",
       "      <td>76.0</td>\n",
       "      <td>10.0</td>\n",
       "    </tr>\n",
       "    <tr>\n",
       "      <th>1</th>\n",
       "      <td>0.0</td>\n",
       "      <td>72.0</td>\n",
       "      <td>3.0</td>\n",
       "    </tr>\n",
       "    <tr>\n",
       "      <th>2</th>\n",
       "      <td>0.0</td>\n",
       "      <td>28.0</td>\n",
       "      <td>3.0</td>\n",
       "    </tr>\n",
       "    <tr>\n",
       "      <th>3</th>\n",
       "      <td>1.0</td>\n",
       "      <td>76.0</td>\n",
       "      <td>1.0</td>\n",
       "    </tr>\n",
       "    <tr>\n",
       "      <th>4</th>\n",
       "      <td>3.0</td>\n",
       "      <td>90.0</td>\n",
       "      <td>1.0</td>\n",
       "    </tr>\n",
       "  </tbody>\n",
       "</table>\n",
       "</div>"
      ],
      "text/plain": [
       "   SART -  Go mistakes (%)  SART -  No Go mistakes (%)  ASQ score:\n",
       "0                      3.0                        76.0        10.0\n",
       "1                      0.0                        72.0         3.0\n",
       "2                      0.0                        28.0         3.0\n",
       "3                      1.0                        76.0         1.0\n",
       "4                      3.0                        90.0         1.0"
      ]
     },
     "metadata": {},
     "output_type": "display_data"
    },
    {
     "data": {
      "text/html": [
       "<div>\n",
       "<style scoped>\n",
       "    .dataframe tbody tr th:only-of-type {\n",
       "        vertical-align: middle;\n",
       "    }\n",
       "\n",
       "    .dataframe tbody tr th {\n",
       "        vertical-align: top;\n",
       "    }\n",
       "\n",
       "    .dataframe thead th {\n",
       "        text-align: right;\n",
       "    }\n",
       "</style>\n",
       "<table border=\"1\" class=\"dataframe\">\n",
       "  <thead>\n",
       "    <tr style=\"text-align: right;\">\n",
       "      <th></th>\n",
       "      <th>Congruent</th>\n",
       "      <th>Incongruent</th>\n",
       "      <th>Stroop effect</th>\n",
       "      <th>ASQ score:</th>\n",
       "    </tr>\n",
       "  </thead>\n",
       "  <tbody>\n",
       "    <tr>\n",
       "      <th>0</th>\n",
       "      <td>625.0</td>\n",
       "      <td>763.0</td>\n",
       "      <td>138.0</td>\n",
       "      <td>7.0</td>\n",
       "    </tr>\n",
       "    <tr>\n",
       "      <th>1</th>\n",
       "      <td>725.0</td>\n",
       "      <td>789.0</td>\n",
       "      <td>64.0</td>\n",
       "      <td>5.0</td>\n",
       "    </tr>\n",
       "    <tr>\n",
       "      <th>2</th>\n",
       "      <td>640.0</td>\n",
       "      <td>766.0</td>\n",
       "      <td>126.0</td>\n",
       "      <td>5.0</td>\n",
       "    </tr>\n",
       "    <tr>\n",
       "      <th>3</th>\n",
       "      <td>714.0</td>\n",
       "      <td>793.0</td>\n",
       "      <td>79.0</td>\n",
       "      <td>1.0</td>\n",
       "    </tr>\n",
       "    <tr>\n",
       "      <th>4</th>\n",
       "      <td>441.0</td>\n",
       "      <td>595.0</td>\n",
       "      <td>154.0</td>\n",
       "      <td>10.0</td>\n",
       "    </tr>\n",
       "  </tbody>\n",
       "</table>\n",
       "</div>"
      ],
      "text/plain": [
       "   Congruent  Incongruent  Stroop effect  ASQ score:\n",
       "0      625.0        763.0          138.0         7.0\n",
       "1      725.0        789.0           64.0         5.0\n",
       "2      640.0        766.0          126.0         5.0\n",
       "3      714.0        793.0           79.0         1.0\n",
       "4      441.0        595.0          154.0        10.0"
      ]
     },
     "metadata": {},
     "output_type": "display_data"
    }
   ],
   "source": [
    "sart = pd.read_csv('sart_data.csv')\n",
    "stroop = pd.read_csv('stroop_data.csv')\n",
    "\n",
    "sart = sart.drop(sart.columns[0], axis=1)\n",
    "stroop = stroop.drop(stroop.columns[0], axis=1)\n",
    "display(sart.head(), stroop.head())"
   ]
  },
  {
   "cell_type": "code",
   "execution_count": 3,
   "id": "9ac4aa99b42b3c38",
   "metadata": {
    "ExecuteTime": {
     "end_time": "2024-06-13T11:21:23.866520Z",
     "start_time": "2024-06-13T11:21:23.861923Z"
    }
   },
   "outputs": [],
   "source": [
    "strooplow = stroop[stroop['ASQ score:'] <= stroop['ASQ score:'].median()]\n",
    "stroophigh = stroop[stroop['ASQ score:'] > stroop['ASQ score:'].median()]"
   ]
  },
  {
   "cell_type": "code",
   "execution_count": 4,
   "id": "0427e863-7ef1-4ade-9204-d8257a443a4c",
   "metadata": {},
   "outputs": [
    {
     "name": "stdout",
     "output_type": "stream",
     "text": [
      "T-test tussen de groepen voor Congruent: TtestResult(statistic=-1.3468856513029985, pvalue=0.18201971544757847, df=76.0)\n",
      "Gemiddelde laag ASQ: 713.2666666666667, SD: 172.78946727159038\n",
      "Gemiddelde hoog ASQ: 772.6060606060606, SD: 216.13073870257608\n",
      "\n",
      "T-test tussen de groepen voor Incongruent: TtestResult(statistic=-0.993414951992657, pvalue=0.32366018812399044, df=76.0)\n",
      "Gemiddelde laag ASQ: 817.3333333333334, SD: 187.35770358036814\n",
      "Gemiddelde hoog ASQ: 860.3939393939394, SD: 191.54518712857606\n",
      "\n",
      "T-test tussen de groepen voor Stroop effect: TtestResult(statistic=0.5757354222169094, pvalue=0.5664949433734866, df=76.0)\n",
      "Gemiddelde laag ASQ: 104.13333333333334, SD: 121.81685209586338\n",
      "Gemiddelde hoog ASQ: 88.39393939393939, SD: 115.71001992965523\n",
      "\n",
      "T-test tussen de groepen voor ASQ score:: TtestResult(statistic=-13.738488464563503, pvalue=2.721202989225768e-22, df=76.0)\n",
      "Gemiddelde laag ASQ: 1.8222222222222222, SD: 0.8059124949366089\n",
      "Gemiddelde hoog ASQ: 5.212121212121212, SD: 1.3637626204176756\n",
      "\n"
     ]
    }
   ],
   "source": [
    "for i in stroop.columns:\n",
    "        print(f\"T-test tussen de groepen voor {i}: {scipy.stats.ttest_ind(strooplow[i], stroophigh[i])}\")\n",
    "        print(f\"Gemiddelde laag ASQ: {strooplow[i].mean()}, SD: {scipy.stats.tstd(strooplow[i])}\")\n",
    "        print(f\"Gemiddelde hoog ASQ: {stroophigh[i].mean()}, SD: {scipy.stats.tstd(stroophigh[i])}\\n\")\n"
   ]
  },
  {
   "cell_type": "code",
   "execution_count": 5,
   "id": "088e069d-d64a-408d-b6d4-1c5993aeab7f",
   "metadata": {},
   "outputs": [
    {
     "data": {
      "text/plain": [
       "Index(['SART -  Go mistakes (%)', 'SART -  No Go mistakes (%)', 'ASQ score:'], dtype='object')"
      ]
     },
     "execution_count": 5,
     "metadata": {},
     "output_type": "execute_result"
    }
   ],
   "source": [
    "sart.columns"
   ]
  },
  {
   "cell_type": "code",
   "execution_count": 6,
   "id": "9c7d4a73-0a4d-4a36-9b16-ede06a1ce111",
   "metadata": {},
   "outputs": [
    {
     "data": {
      "text/html": [
       "<div>\n",
       "<style scoped>\n",
       "    .dataframe tbody tr th:only-of-type {\n",
       "        vertical-align: middle;\n",
       "    }\n",
       "\n",
       "    .dataframe tbody tr th {\n",
       "        vertical-align: top;\n",
       "    }\n",
       "\n",
       "    .dataframe thead th {\n",
       "        text-align: right;\n",
       "    }\n",
       "</style>\n",
       "<table border=\"1\" class=\"dataframe\">\n",
       "  <thead>\n",
       "    <tr style=\"text-align: right;\">\n",
       "      <th></th>\n",
       "      <th>SART -  Go mistakes (%)</th>\n",
       "      <th>SART -  No Go mistakes (%)</th>\n",
       "      <th>ASQ score:</th>\n",
       "    </tr>\n",
       "  </thead>\n",
       "  <tbody>\n",
       "    <tr>\n",
       "      <th>0</th>\n",
       "      <td>3.0</td>\n",
       "      <td>76.0</td>\n",
       "      <td>10.0</td>\n",
       "    </tr>\n",
       "    <tr>\n",
       "      <th>1</th>\n",
       "      <td>0.0</td>\n",
       "      <td>72.0</td>\n",
       "      <td>3.0</td>\n",
       "    </tr>\n",
       "    <tr>\n",
       "      <th>2</th>\n",
       "      <td>0.0</td>\n",
       "      <td>28.0</td>\n",
       "      <td>3.0</td>\n",
       "    </tr>\n",
       "    <tr>\n",
       "      <th>3</th>\n",
       "      <td>1.0</td>\n",
       "      <td>76.0</td>\n",
       "      <td>1.0</td>\n",
       "    </tr>\n",
       "    <tr>\n",
       "      <th>4</th>\n",
       "      <td>3.0</td>\n",
       "      <td>90.0</td>\n",
       "      <td>1.0</td>\n",
       "    </tr>\n",
       "  </tbody>\n",
       "</table>\n",
       "</div>"
      ],
      "text/plain": [
       "   SART -  Go mistakes (%)  SART -  No Go mistakes (%)  ASQ score:\n",
       "0                      3.0                        76.0        10.0\n",
       "1                      0.0                        72.0         3.0\n",
       "2                      0.0                        28.0         3.0\n",
       "3                      1.0                        76.0         1.0\n",
       "4                      3.0                        90.0         1.0"
      ]
     },
     "metadata": {},
     "output_type": "display_data"
    },
    {
     "name": "stdout",
     "output_type": "stream",
     "text": [
      "24\n"
     ]
    }
   ],
   "source": [
    "display(sart.head())\n",
    "print(len(sart))"
   ]
  },
  {
   "cell_type": "code",
   "execution_count": 7,
   "id": "35932b8e-c6ed-4d03-a9f4-42d942f170b7",
   "metadata": {},
   "outputs": [],
   "source": [
    "sartlow = sart[sart['ASQ score:'] <= sart['ASQ score:'].median()]\n",
    "sarthigh = sart[sart['ASQ score:'] > sart['ASQ score:'].median()]"
   ]
  },
  {
   "cell_type": "code",
   "execution_count": 8,
   "id": "20807ab5-7d5d-4eeb-8945-89fb459c2128",
   "metadata": {},
   "outputs": [
    {
     "data": {
      "text/html": [
       "<div>\n",
       "<style scoped>\n",
       "    .dataframe tbody tr th:only-of-type {\n",
       "        vertical-align: middle;\n",
       "    }\n",
       "\n",
       "    .dataframe tbody tr th {\n",
       "        vertical-align: top;\n",
       "    }\n",
       "\n",
       "    .dataframe thead th {\n",
       "        text-align: right;\n",
       "    }\n",
       "</style>\n",
       "<table border=\"1\" class=\"dataframe\">\n",
       "  <thead>\n",
       "    <tr style=\"text-align: right;\">\n",
       "      <th></th>\n",
       "      <th>SART -  Go mistakes (%)</th>\n",
       "      <th>SART -  No Go mistakes (%)</th>\n",
       "      <th>ASQ score:</th>\n",
       "    </tr>\n",
       "  </thead>\n",
       "  <tbody>\n",
       "    <tr>\n",
       "      <th>3</th>\n",
       "      <td>1.00</td>\n",
       "      <td>76.00</td>\n",
       "      <td>1.0</td>\n",
       "    </tr>\n",
       "    <tr>\n",
       "      <th>4</th>\n",
       "      <td>3.00</td>\n",
       "      <td>90.00</td>\n",
       "      <td>1.0</td>\n",
       "    </tr>\n",
       "    <tr>\n",
       "      <th>5</th>\n",
       "      <td>6.67</td>\n",
       "      <td>6.67</td>\n",
       "      <td>1.0</td>\n",
       "    </tr>\n",
       "    <tr>\n",
       "      <th>7</th>\n",
       "      <td>1.00</td>\n",
       "      <td>28.00</td>\n",
       "      <td>2.0</td>\n",
       "    </tr>\n",
       "    <tr>\n",
       "      <th>8</th>\n",
       "      <td>0.00</td>\n",
       "      <td>8.00</td>\n",
       "      <td>2.0</td>\n",
       "    </tr>\n",
       "    <tr>\n",
       "      <th>9</th>\n",
       "      <td>0.00</td>\n",
       "      <td>18.00</td>\n",
       "      <td>2.0</td>\n",
       "    </tr>\n",
       "    <tr>\n",
       "      <th>13</th>\n",
       "      <td>1.00</td>\n",
       "      <td>32.00</td>\n",
       "      <td>1.0</td>\n",
       "    </tr>\n",
       "    <tr>\n",
       "      <th>14</th>\n",
       "      <td>0.00</td>\n",
       "      <td>16.00</td>\n",
       "      <td>2.0</td>\n",
       "    </tr>\n",
       "    <tr>\n",
       "      <th>16</th>\n",
       "      <td>1.00</td>\n",
       "      <td>52.00</td>\n",
       "      <td>2.0</td>\n",
       "    </tr>\n",
       "    <tr>\n",
       "      <th>17</th>\n",
       "      <td>0.00</td>\n",
       "      <td>0.00</td>\n",
       "      <td>2.0</td>\n",
       "    </tr>\n",
       "    <tr>\n",
       "      <th>18</th>\n",
       "      <td>1.00</td>\n",
       "      <td>60.00</td>\n",
       "      <td>2.0</td>\n",
       "    </tr>\n",
       "    <tr>\n",
       "      <th>20</th>\n",
       "      <td>0.00</td>\n",
       "      <td>72.00</td>\n",
       "      <td>2.0</td>\n",
       "    </tr>\n",
       "    <tr>\n",
       "      <th>21</th>\n",
       "      <td>25.00</td>\n",
       "      <td>60.00</td>\n",
       "      <td>2.0</td>\n",
       "    </tr>\n",
       "    <tr>\n",
       "      <th>22</th>\n",
       "      <td>0.00</td>\n",
       "      <td>36.00</td>\n",
       "      <td>1.0</td>\n",
       "    </tr>\n",
       "  </tbody>\n",
       "</table>\n",
       "</div>"
      ],
      "text/plain": [
       "    SART -  Go mistakes (%)  SART -  No Go mistakes (%)  ASQ score:\n",
       "3                      1.00                       76.00         1.0\n",
       "4                      3.00                       90.00         1.0\n",
       "5                      6.67                        6.67         1.0\n",
       "7                      1.00                       28.00         2.0\n",
       "8                      0.00                        8.00         2.0\n",
       "9                      0.00                       18.00         2.0\n",
       "13                     1.00                       32.00         1.0\n",
       "14                     0.00                       16.00         2.0\n",
       "16                     1.00                       52.00         2.0\n",
       "17                     0.00                        0.00         2.0\n",
       "18                     1.00                       60.00         2.0\n",
       "20                     0.00                       72.00         2.0\n",
       "21                    25.00                       60.00         2.0\n",
       "22                     0.00                       36.00         1.0"
      ]
     },
     "metadata": {},
     "output_type": "display_data"
    }
   ],
   "source": [
    "display(sartlow)"
   ]
  },
  {
   "cell_type": "code",
   "execution_count": 9,
   "id": "c53252b3-0e39-4969-9763-587d3c92f97e",
   "metadata": {},
   "outputs": [
    {
     "name": "stdout",
     "output_type": "stream",
     "text": [
      "Correlation between SART -  Go mistakes (%) and ASQ score:PearsonRResult(statistic=0.06955276050538287, pvalue=0.7467413941631837)\n",
      "Correlation between SART -  No Go mistakes (%) and ASQ score:PearsonRResult(statistic=0.3221238733159792, pvalue=0.12476279308423699)\n",
      "Correlation between ASQ score: and ASQ score:PearsonRResult(statistic=0.9999999999999997, pvalue=4.563495604573848e-167)\n"
     ]
    }
   ],
   "source": [
    "for i in sart.columns:\n",
    "    print(f\"Correlation between {i} and ASQ score:{scipy.stats.pearsonr(sart[i], sart['ASQ score:'])}\")"
   ]
  },
  {
   "cell_type": "code",
   "execution_count": 10,
   "id": "25bc018e-a5e8-4341-914f-92c96dfaf90c",
   "metadata": {},
   "outputs": [
    {
     "name": "stdout",
     "output_type": "stream",
     "text": [
      "T-test tussen de groepen voor SART -  Go mistakes (%): TtestResult(statistic=0.24291450611324503, pvalue=0.8103221258443973, df=22.0)\n",
      "Gemiddelde laag ASQ: 2.8335714285714286, SD: 6.6279195101454755\n",
      "Gemiddelde hoog ASQ: 2.3, SD: 2.3118054512532935\n",
      "\n",
      "T-test tussen de groepen voor SART -  No Go mistakes (%): TtestResult(statistic=-1.6037716646057967, pvalue=0.1230255254056672, df=22.0)\n",
      "Gemiddelde laag ASQ: 39.619285714285716, SD: 28.797515508296012\n",
      "Gemiddelde hoog ASQ: 57.6, SD: 24.382142828079914\n",
      "\n",
      "T-test tussen de groepen voor ASQ score:: TtestResult(statistic=-6.30197979752475, pvalue=2.422842012255395e-06, df=22.0)\n",
      "Gemiddelde laag ASQ: 1.6428571428571428, SD: 0.4972451580988468\n",
      "Gemiddelde hoog ASQ: 5.4, SD: 2.1705094128132942\n",
      "\n"
     ]
    }
   ],
   "source": [
    "for i in sart.columns:\n",
    "    print(f\"T-test tussen de groepen voor {i}: {scipy.stats.ttest_ind(sartlow[i], sarthigh[i])}\")\n",
    "    print(f\"Gemiddelde laag ASQ: {sartlow[i].mean()}, SD: {scipy.stats.tstd(sartlow[i])}\")\n",
    "    print(f\"Gemiddelde hoog ASQ: {sarthigh[i].mean()}, SD: {scipy.stats.tstd(sarthigh[i])}\\n\")"
   ]
  },
  {
   "cell_type": "code",
   "execution_count": 11,
   "id": "16075a53-8f10-49fd-9f4d-785644f7d76f",
   "metadata": {},
   "outputs": [],
   "source": [
    "def cohen_d(x,y):\n",
    "    return (np.mean(x) - np.mean(y)) / np.sqrt((np.std(x, ddof=1) ** 2 + np.std(y, ddof=1) ** 2) / 2.0)"
   ]
  },
  {
   "cell_type": "code",
   "execution_count": 12,
   "id": "ad7c3c2b-d1bf-4251-b00a-957b374308cf",
   "metadata": {},
   "outputs": [
    {
     "name": "stderr",
     "output_type": "stream",
     "text": [
      "C:\\Users\\Sebas\\AppData\\Local\\anaconda3\\Lib\\site-packages\\numpy\\core\\fromnumeric.py:3643: FutureWarning: The behavior of DataFrame.std with axis=None is deprecated, in a future version this will reduce over both axes and return a scalar. To retain the old behavior, pass axis=0 (or do not pass axis)\n",
      "  return std(axis=axis, dtype=dtype, out=out, ddof=ddof, **kwargs)\n"
     ]
    },
    {
     "data": {
      "text/plain": [
       "Congruent        -0.115058\n",
       "Incongruent      -0.118823\n",
       "Stroop effect    -0.189496\n",
       "ASQ score:      -20.098383\n",
       "dtype: float64"
      ]
     },
     "execution_count": 12,
     "metadata": {},
     "output_type": "execute_result"
    }
   ],
   "source": [
    "cohen_d(strooplow, stroophigh)"
   ]
  },
  {
   "cell_type": "code",
   "execution_count": 13,
   "id": "57c54e7b-a393-4959-a927-6aab74b29d55",
   "metadata": {},
   "outputs": [
    {
     "name": "stdout",
     "output_type": "stream",
     "text": [
      "1186.7450191392018\n",
      "1112.7778354092427\n",
      "438.11876753043583\n",
      "[10.]\n"
     ]
    },
    {
     "name": "stderr",
     "output_type": "stream",
     "text": [
      "C:\\Users\\Sebas\\AppData\\Local\\anaconda3\\Lib\\site-packages\\statsmodels\\stats\\power.py:525: ConvergenceWarning: \n",
      "Failed to converge on a solution.\n",
      "\n",
      "  warnings.warn(convergence_doc, ConvergenceWarning)\n"
     ]
    }
   ],
   "source": [
    "power_analysis = smp.TTestIndPower()\n",
    "\n",
    "for i in cohen_d(strooplow, stroophigh):\n",
    "    sample_size = power_analysis.solve_power(effect_size=i, power=0.8, alpha=0.05)\n",
    "    print(sample_size)"
   ]
  },
  {
   "cell_type": "code",
   "execution_count": 14,
   "id": "43f013c555ecf37c",
   "metadata": {
    "ExecuteTime": {
     "end_time": "2024-06-13T11:23:36.403966Z",
     "start_time": "2024-06-13T11:23:36.236003Z"
    }
   },
   "outputs": [],
   "source": [
    "# sns.set_theme(style='whitegrid')\n",
    "\n",
    "# g = sns.jointplot(x=\"ASQ score:\", y=\"SART -  No Go mistakes (%)\", data=sart,\n",
    "#                   kind=\"reg\", truncate=False,)\n",
    "\n",
    "# print(st.correlation(sart['ASQ score:'], sart['SART -  No Go mistakes (%)']))"
   ]
  }
 ],
 "metadata": {
  "kernelspec": {
   "display_name": "Python 3 (ipykernel)",
   "language": "python",
   "name": "python3"
  },
  "language_info": {
   "codemirror_mode": {
    "name": "ipython",
    "version": 3
   },
   "file_extension": ".py",
   "mimetype": "text/x-python",
   "name": "python",
   "nbconvert_exporter": "python",
   "pygments_lexer": "ipython3",
   "version": "3.11.5"
  }
 },
 "nbformat": 4,
 "nbformat_minor": 5
}
